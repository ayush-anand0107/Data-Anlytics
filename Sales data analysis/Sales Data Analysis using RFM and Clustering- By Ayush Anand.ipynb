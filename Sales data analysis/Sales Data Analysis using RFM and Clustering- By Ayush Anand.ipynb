{
 "cells": [
  {
   "cell_type": "code",
   "execution_count": 1,
   "id": "4c17be22",
   "metadata": {},
   "outputs": [],
   "source": [
    "#Importimg the libraries\n",
    "import numpy as np\n",
    "import pandas as pd\n",
    "import matplotlib.pyplot as plt\n",
    "import seaborn as sns\n",
    "import warnings \n",
    "warnings.filterwarnings('ignore')\n",
    "\n",
    "import sklearn\n",
    "from sklearn.preprocessing import StandardScaler\n",
    "from sklearn.cluster import KMeans\n",
    "from sklearn.metrics import silhouette_score\n",
    "\n",
    "from scipy.cluster.hierarchy import linkage\n",
    "from scipy.cluster.hierarchy import dendrogram\n",
    "from scipy.cluster.hierarchy import cut_tree"
   ]
  },
  {
   "cell_type": "code",
   "execution_count": 2,
   "id": "a51b3d04",
   "metadata": {},
   "outputs": [
    {
     "name": "stdout",
     "output_type": "stream",
     "text": [
      "<class 'pandas.core.frame.DataFrame'>\n",
      "RangeIndex: 5000 entries, 0 to 4999\n",
      "Data columns (total 40 columns):\n",
      " #   Column                     Non-Null Count  Dtype         \n",
      "---  ------                     --------------  -----         \n",
      " 0   CustomerID                 5000 non-null   int64         \n",
      " 1   TOTAL_ORDERS               5000 non-null   int64         \n",
      " 2   REVENUE                    5000 non-null   float64       \n",
      " 3   AVERAGE_ORDER_VALUE        5000 non-null   float64       \n",
      " 4   CARRIAGE_REVENUE           5000 non-null   float64       \n",
      " 5   AVERAGESHIPPING            5000 non-null   float64       \n",
      " 6   FIRST_ORDER_DATE           5000 non-null   datetime64[ns]\n",
      " 7   LATEST_ORDER_DATE          5000 non-null   datetime64[ns]\n",
      " 8   AVGDAYSBETWEENORDERS       5000 non-null   float64       \n",
      " 9   DAYSSINCELASTORDER         5000 non-null   int64         \n",
      " 10  MONDAY_ORDERS              5000 non-null   int64         \n",
      " 11  TUESDAY_ORDERS             5000 non-null   int64         \n",
      " 12  WEDNESDAY_ORDERS           5000 non-null   int64         \n",
      " 13  THURSDAY_ORDERS            5000 non-null   int64         \n",
      " 14  FRIDAY_ORDERS              5000 non-null   int64         \n",
      " 15  SATURDAY_ORDERS            5000 non-null   int64         \n",
      " 16  SUNDAY_ORDERS              5000 non-null   int64         \n",
      " 17  MONDAY_REVENUE             5000 non-null   float64       \n",
      " 18  TUESDAY_REVENUE            5000 non-null   float64       \n",
      " 19  WEDNESDAY_REVENUE          5000 non-null   float64       \n",
      " 20  THURSDAY_REVENUE           5000 non-null   float64       \n",
      " 21  FRIDAY_REVENUE             5000 non-null   float64       \n",
      " 22  SATURDAY_REVENUE           5000 non-null   float64       \n",
      " 23  SUNDAY_REVENUE             5000 non-null   float64       \n",
      " 24  WEEK1_DAY01_DAY07_ORDERS   5000 non-null   int64         \n",
      " 25  WEEK2_DAY08_DAY15_ORDERS   5000 non-null   int64         \n",
      " 26  WEEK3_DAY16_DAY23_ORDERS   5000 non-null   int64         \n",
      " 27  WEEK4_DAY24_DAY31_ORDERS   5000 non-null   int64         \n",
      " 28  WEEK1_DAY01_DAY07_REVENUE  5000 non-null   float64       \n",
      " 29  WEEK2_DAY08_DAY15_REVENUE  5000 non-null   float64       \n",
      " 30  WEEK3_DAY16_DAY23_REVENUE  5000 non-null   float64       \n",
      " 31  WEEK4_DAY24_DAY31_REVENUE  5000 non-null   float64       \n",
      " 32  TIME_0000_0600_ORDERS      5000 non-null   int64         \n",
      " 33  TIME_0601_1200_ORDERS      5000 non-null   int64         \n",
      " 34  TIME_1200_1800_ORDERS      5000 non-null   int64         \n",
      " 35  TIME_1801_2359_ORDERS      5000 non-null   int64         \n",
      " 36  TIME_0000_0600_REVENUE     5000 non-null   float64       \n",
      " 37  TIME_0601_1200_REVENUE     5000 non-null   float64       \n",
      " 38  TIME_1200_1800_REVENUE     5000 non-null   float64       \n",
      " 39  TIME_1801_2359_REVENUE     5000 non-null   float64       \n",
      "dtypes: datetime64[ns](2), float64(20), int64(18)\n",
      "memory usage: 1.5 MB\n"
     ]
    }
   ],
   "source": [
    "#Loading the data into sales as pandas dataframe\n",
    "sales = pd.read_excel(\"sales_data.xlsx\")\n",
    "sales.info()"
   ]
  },
  {
   "cell_type": "code",
   "execution_count": 3,
   "id": "127357ad",
   "metadata": {},
   "outputs": [
    {
     "data": {
      "text/html": [
       "<div>\n",
       "<style scoped>\n",
       "    .dataframe tbody tr th:only-of-type {\n",
       "        vertical-align: middle;\n",
       "    }\n",
       "\n",
       "    .dataframe tbody tr th {\n",
       "        vertical-align: top;\n",
       "    }\n",
       "\n",
       "    .dataframe thead th {\n",
       "        text-align: right;\n",
       "    }\n",
       "</style>\n",
       "<table border=\"1\" class=\"dataframe\">\n",
       "  <thead>\n",
       "    <tr style=\"text-align: right;\">\n",
       "      <th></th>\n",
       "      <th>CustomerID</th>\n",
       "      <th>TOTAL_ORDERS</th>\n",
       "      <th>REVENUE</th>\n",
       "      <th>AVERAGE_ORDER_VALUE</th>\n",
       "      <th>CARRIAGE_REVENUE</th>\n",
       "      <th>AVERAGESHIPPING</th>\n",
       "      <th>FIRST_ORDER_DATE</th>\n",
       "      <th>LATEST_ORDER_DATE</th>\n",
       "      <th>AVGDAYSBETWEENORDERS</th>\n",
       "      <th>DAYSSINCELASTORDER</th>\n",
       "      <th>...</th>\n",
       "      <th>WEEK3_DAY16_DAY23_REVENUE</th>\n",
       "      <th>WEEK4_DAY24_DAY31_REVENUE</th>\n",
       "      <th>TIME_0000_0600_ORDERS</th>\n",
       "      <th>TIME_0601_1200_ORDERS</th>\n",
       "      <th>TIME_1200_1800_ORDERS</th>\n",
       "      <th>TIME_1801_2359_ORDERS</th>\n",
       "      <th>TIME_0000_0600_REVENUE</th>\n",
       "      <th>TIME_0601_1200_REVENUE</th>\n",
       "      <th>TIME_1200_1800_REVENUE</th>\n",
       "      <th>TIME_1801_2359_REVENUE</th>\n",
       "    </tr>\n",
       "  </thead>\n",
       "  <tbody>\n",
       "    <tr>\n",
       "      <th>2266</th>\n",
       "      <td>1</td>\n",
       "      <td>61</td>\n",
       "      <td>34847.40</td>\n",
       "      <td>571.27</td>\n",
       "      <td>297.50</td>\n",
       "      <td>4.88</td>\n",
       "      <td>2020-03-03</td>\n",
       "      <td>2021-09-02</td>\n",
       "      <td>8.98</td>\n",
       "      <td>53</td>\n",
       "      <td>...</td>\n",
       "      <td>12946.22</td>\n",
       "      <td>8109.45</td>\n",
       "      <td>11</td>\n",
       "      <td>3</td>\n",
       "      <td>29</td>\n",
       "      <td>18</td>\n",
       "      <td>2293.90</td>\n",
       "      <td>1809.47</td>\n",
       "      <td>17749.01</td>\n",
       "      <td>12995.02</td>\n",
       "    </tr>\n",
       "    <tr>\n",
       "      <th>2876</th>\n",
       "      <td>2</td>\n",
       "      <td>59</td>\n",
       "      <td>32486.98</td>\n",
       "      <td>550.63</td>\n",
       "      <td>218.68</td>\n",
       "      <td>3.71</td>\n",
       "      <td>2019-02-13</td>\n",
       "      <td>2021-07-23</td>\n",
       "      <td>15.10</td>\n",
       "      <td>94</td>\n",
       "      <td>...</td>\n",
       "      <td>9094.21</td>\n",
       "      <td>7755.92</td>\n",
       "      <td>7</td>\n",
       "      <td>36</td>\n",
       "      <td>15</td>\n",
       "      <td>1</td>\n",
       "      <td>1350.28</td>\n",
       "      <td>23832.77</td>\n",
       "      <td>6893.93</td>\n",
       "      <td>410.00</td>\n",
       "    </tr>\n",
       "    <tr>\n",
       "      <th>2267</th>\n",
       "      <td>3</td>\n",
       "      <td>53</td>\n",
       "      <td>24178.97</td>\n",
       "      <td>456.21</td>\n",
       "      <td>43.97</td>\n",
       "      <td>0.83</td>\n",
       "      <td>2018-02-15</td>\n",
       "      <td>2021-09-02</td>\n",
       "      <td>24.43</td>\n",
       "      <td>53</td>\n",
       "      <td>...</td>\n",
       "      <td>6431.97</td>\n",
       "      <td>3879.00</td>\n",
       "      <td>0</td>\n",
       "      <td>34</td>\n",
       "      <td>18</td>\n",
       "      <td>1</td>\n",
       "      <td>0.00</td>\n",
       "      <td>16030.98</td>\n",
       "      <td>7996.99</td>\n",
       "      <td>151.00</td>\n",
       "    </tr>\n",
       "    <tr>\n",
       "      <th>1153</th>\n",
       "      <td>4</td>\n",
       "      <td>84</td>\n",
       "      <td>18554.49</td>\n",
       "      <td>220.89</td>\n",
       "      <td>421.29</td>\n",
       "      <td>5.02</td>\n",
       "      <td>2016-10-01</td>\n",
       "      <td>2021-10-20</td>\n",
       "      <td>21.96</td>\n",
       "      <td>5</td>\n",
       "      <td>...</td>\n",
       "      <td>5609.60</td>\n",
       "      <td>5117.11</td>\n",
       "      <td>2</td>\n",
       "      <td>46</td>\n",
       "      <td>22</td>\n",
       "      <td>14</td>\n",
       "      <td>140.98</td>\n",
       "      <td>11795.40</td>\n",
       "      <td>4557.05</td>\n",
       "      <td>2061.06</td>\n",
       "    </tr>\n",
       "    <tr>\n",
       "      <th>3377</th>\n",
       "      <td>5</td>\n",
       "      <td>26</td>\n",
       "      <td>16884.99</td>\n",
       "      <td>649.42</td>\n",
       "      <td>54.89</td>\n",
       "      <td>2.11</td>\n",
       "      <td>2015-12-27</td>\n",
       "      <td>2021-06-17</td>\n",
       "      <td>76.88</td>\n",
       "      <td>130</td>\n",
       "      <td>...</td>\n",
       "      <td>2265.46</td>\n",
       "      <td>8274.97</td>\n",
       "      <td>13</td>\n",
       "      <td>4</td>\n",
       "      <td>6</td>\n",
       "      <td>3</td>\n",
       "      <td>7700.24</td>\n",
       "      <td>1945.00</td>\n",
       "      <td>4751.96</td>\n",
       "      <td>2487.79</td>\n",
       "    </tr>\n",
       "  </tbody>\n",
       "</table>\n",
       "<p>5 rows × 40 columns</p>\n",
       "</div>"
      ],
      "text/plain": [
       "      CustomerID  TOTAL_ORDERS   REVENUE  AVERAGE_ORDER_VALUE  \\\n",
       "2266           1            61  34847.40               571.27   \n",
       "2876           2            59  32486.98               550.63   \n",
       "2267           3            53  24178.97               456.21   \n",
       "1153           4            84  18554.49               220.89   \n",
       "3377           5            26  16884.99               649.42   \n",
       "\n",
       "      CARRIAGE_REVENUE  AVERAGESHIPPING FIRST_ORDER_DATE LATEST_ORDER_DATE  \\\n",
       "2266            297.50             4.88       2020-03-03        2021-09-02   \n",
       "2876            218.68             3.71       2019-02-13        2021-07-23   \n",
       "2267             43.97             0.83       2018-02-15        2021-09-02   \n",
       "1153            421.29             5.02       2016-10-01        2021-10-20   \n",
       "3377             54.89             2.11       2015-12-27        2021-06-17   \n",
       "\n",
       "      AVGDAYSBETWEENORDERS  DAYSSINCELASTORDER  ...  \\\n",
       "2266                  8.98                  53  ...   \n",
       "2876                 15.10                  94  ...   \n",
       "2267                 24.43                  53  ...   \n",
       "1153                 21.96                   5  ...   \n",
       "3377                 76.88                 130  ...   \n",
       "\n",
       "      WEEK3_DAY16_DAY23_REVENUE  WEEK4_DAY24_DAY31_REVENUE  \\\n",
       "2266                   12946.22                    8109.45   \n",
       "2876                    9094.21                    7755.92   \n",
       "2267                    6431.97                    3879.00   \n",
       "1153                    5609.60                    5117.11   \n",
       "3377                    2265.46                    8274.97   \n",
       "\n",
       "      TIME_0000_0600_ORDERS  TIME_0601_1200_ORDERS  TIME_1200_1800_ORDERS  \\\n",
       "2266                     11                      3                     29   \n",
       "2876                      7                     36                     15   \n",
       "2267                      0                     34                     18   \n",
       "1153                      2                     46                     22   \n",
       "3377                     13                      4                      6   \n",
       "\n",
       "      TIME_1801_2359_ORDERS  TIME_0000_0600_REVENUE  TIME_0601_1200_REVENUE  \\\n",
       "2266                     18                 2293.90                 1809.47   \n",
       "2876                      1                 1350.28                23832.77   \n",
       "2267                      1                    0.00                16030.98   \n",
       "1153                     14                  140.98                11795.40   \n",
       "3377                      3                 7700.24                 1945.00   \n",
       "\n",
       "      TIME_1200_1800_REVENUE  TIME_1801_2359_REVENUE  \n",
       "2266                17749.01                12995.02  \n",
       "2876                 6893.93                  410.00  \n",
       "2267                 7996.99                  151.00  \n",
       "1153                 4557.05                 2061.06  \n",
       "3377                 4751.96                 2487.79  \n",
       "\n",
       "[5 rows x 40 columns]"
      ]
     },
     "execution_count": 3,
     "metadata": {},
     "output_type": "execute_result"
    }
   ],
   "source": [
    "#sorting the data according to 'CustomerID'\n",
    "sales = sales.sort_values(by=['CustomerID'])\n",
    "sales.head()"
   ]
  },
  {
   "cell_type": "raw",
   "id": "b9803a10",
   "metadata": {},
   "source": [
    "### RFM ANALYSIS\n",
    "Since we're performing an RFM analysis thus we need to consider only the Recency (How recently the orders were made), Frequency(How frequently a particular customer made the order or the total number of orders made by the customer in the given time period) and Monetary value (What was the avg amount of order made by customer). "
   ]
  },
  {
   "cell_type": "code",
   "execution_count": 4,
   "id": "6e321442",
   "metadata": {},
   "outputs": [
    {
     "data": {
      "text/html": [
       "<div>\n",
       "<style scoped>\n",
       "    .dataframe tbody tr th:only-of-type {\n",
       "        vertical-align: middle;\n",
       "    }\n",
       "\n",
       "    .dataframe tbody tr th {\n",
       "        vertical-align: top;\n",
       "    }\n",
       "\n",
       "    .dataframe thead th {\n",
       "        text-align: right;\n",
       "    }\n",
       "</style>\n",
       "<table border=\"1\" class=\"dataframe\">\n",
       "  <thead>\n",
       "    <tr style=\"text-align: right;\">\n",
       "      <th></th>\n",
       "      <th>CustomerID</th>\n",
       "      <th>TOTAL_ORDERS</th>\n",
       "    </tr>\n",
       "  </thead>\n",
       "  <tbody>\n",
       "    <tr>\n",
       "      <th>2266</th>\n",
       "      <td>1</td>\n",
       "      <td>61</td>\n",
       "    </tr>\n",
       "    <tr>\n",
       "      <th>2876</th>\n",
       "      <td>2</td>\n",
       "      <td>59</td>\n",
       "    </tr>\n",
       "    <tr>\n",
       "      <th>2267</th>\n",
       "      <td>3</td>\n",
       "      <td>53</td>\n",
       "    </tr>\n",
       "    <tr>\n",
       "      <th>1153</th>\n",
       "      <td>4</td>\n",
       "      <td>84</td>\n",
       "    </tr>\n",
       "    <tr>\n",
       "      <th>3377</th>\n",
       "      <td>5</td>\n",
       "      <td>26</td>\n",
       "    </tr>\n",
       "  </tbody>\n",
       "</table>\n",
       "</div>"
      ],
      "text/plain": [
       "      CustomerID  TOTAL_ORDERS\n",
       "2266           1            61\n",
       "2876           2            59\n",
       "2267           3            53\n",
       "1153           4            84\n",
       "3377           5            26"
      ]
     },
     "execution_count": 4,
     "metadata": {},
     "output_type": "execute_result"
    }
   ],
   "source": [
    "#FREQUENCY\n",
    "frequency = sales[['CustomerID','TOTAL_ORDERS']]\n",
    "frequency.head()"
   ]
  },
  {
   "cell_type": "code",
   "execution_count": 5,
   "id": "cdf4b5ad",
   "metadata": {},
   "outputs": [
    {
     "data": {
      "text/html": [
       "<div>\n",
       "<style scoped>\n",
       "    .dataframe tbody tr th:only-of-type {\n",
       "        vertical-align: middle;\n",
       "    }\n",
       "\n",
       "    .dataframe tbody tr th {\n",
       "        vertical-align: top;\n",
       "    }\n",
       "\n",
       "    .dataframe thead th {\n",
       "        text-align: right;\n",
       "    }\n",
       "</style>\n",
       "<table border=\"1\" class=\"dataframe\">\n",
       "  <thead>\n",
       "    <tr style=\"text-align: right;\">\n",
       "      <th></th>\n",
       "      <th>CustomerID</th>\n",
       "      <th>TOTAL_ORDERS</th>\n",
       "    </tr>\n",
       "  </thead>\n",
       "  <tbody>\n",
       "    <tr>\n",
       "      <th>0</th>\n",
       "      <td>1</td>\n",
       "      <td>61</td>\n",
       "    </tr>\n",
       "    <tr>\n",
       "      <th>1</th>\n",
       "      <td>2</td>\n",
       "      <td>59</td>\n",
       "    </tr>\n",
       "    <tr>\n",
       "      <th>2</th>\n",
       "      <td>3</td>\n",
       "      <td>53</td>\n",
       "    </tr>\n",
       "    <tr>\n",
       "      <th>3</th>\n",
       "      <td>4</td>\n",
       "      <td>84</td>\n",
       "    </tr>\n",
       "    <tr>\n",
       "      <th>4</th>\n",
       "      <td>5</td>\n",
       "      <td>26</td>\n",
       "    </tr>\n",
       "  </tbody>\n",
       "</table>\n",
       "</div>"
      ],
      "text/plain": [
       "   CustomerID  TOTAL_ORDERS\n",
       "0           1            61\n",
       "1           2            59\n",
       "2           3            53\n",
       "3           4            84\n",
       "4           5            26"
      ]
     },
     "execution_count": 5,
     "metadata": {},
     "output_type": "execute_result"
    }
   ],
   "source": [
    "frequency = frequency.reset_index()\n",
    "frequency.drop(['index'], axis=1,inplace=True)\n",
    "frequency.head()"
   ]
  },
  {
   "cell_type": "code",
   "execution_count": 6,
   "id": "55c4c2dc",
   "metadata": {},
   "outputs": [
    {
     "data": {
      "text/html": [
       "<div>\n",
       "<style scoped>\n",
       "    .dataframe tbody tr th:only-of-type {\n",
       "        vertical-align: middle;\n",
       "    }\n",
       "\n",
       "    .dataframe tbody tr th {\n",
       "        vertical-align: top;\n",
       "    }\n",
       "\n",
       "    .dataframe thead th {\n",
       "        text-align: right;\n",
       "    }\n",
       "</style>\n",
       "<table border=\"1\" class=\"dataframe\">\n",
       "  <thead>\n",
       "    <tr style=\"text-align: right;\">\n",
       "      <th></th>\n",
       "      <th>CustomerID</th>\n",
       "      <th>AVERAGE_ORDER_VALUE</th>\n",
       "    </tr>\n",
       "  </thead>\n",
       "  <tbody>\n",
       "    <tr>\n",
       "      <th>0</th>\n",
       "      <td>1</td>\n",
       "      <td>571.27</td>\n",
       "    </tr>\n",
       "    <tr>\n",
       "      <th>1</th>\n",
       "      <td>2</td>\n",
       "      <td>550.63</td>\n",
       "    </tr>\n",
       "    <tr>\n",
       "      <th>2</th>\n",
       "      <td>3</td>\n",
       "      <td>456.21</td>\n",
       "    </tr>\n",
       "    <tr>\n",
       "      <th>3</th>\n",
       "      <td>4</td>\n",
       "      <td>220.89</td>\n",
       "    </tr>\n",
       "    <tr>\n",
       "      <th>4</th>\n",
       "      <td>5</td>\n",
       "      <td>649.42</td>\n",
       "    </tr>\n",
       "  </tbody>\n",
       "</table>\n",
       "</div>"
      ],
      "text/plain": [
       "   CustomerID  AVERAGE_ORDER_VALUE\n",
       "0           1               571.27\n",
       "1           2               550.63\n",
       "2           3               456.21\n",
       "3           4               220.89\n",
       "4           5               649.42"
      ]
     },
     "execution_count": 6,
     "metadata": {},
     "output_type": "execute_result"
    }
   ],
   "source": [
    "#MONETARY\n",
    "groupDf = sales[['CustomerID','AVERAGE_ORDER_VALUE']]\n",
    "groupDf = groupDf.reset_index()\n",
    "groupDf.drop(['index'],axis=1,inplace=True)\n",
    "groupDf.head()"
   ]
  },
  {
   "cell_type": "code",
   "execution_count": 7,
   "id": "54a45887",
   "metadata": {},
   "outputs": [
    {
     "data": {
      "text/html": [
       "<div>\n",
       "<style scoped>\n",
       "    .dataframe tbody tr th:only-of-type {\n",
       "        vertical-align: middle;\n",
       "    }\n",
       "\n",
       "    .dataframe tbody tr th {\n",
       "        vertical-align: top;\n",
       "    }\n",
       "\n",
       "    .dataframe thead th {\n",
       "        text-align: right;\n",
       "    }\n",
       "</style>\n",
       "<table border=\"1\" class=\"dataframe\">\n",
       "  <thead>\n",
       "    <tr style=\"text-align: right;\">\n",
       "      <th></th>\n",
       "      <th>CustomerID</th>\n",
       "      <th>AVERAGE_ORDER_VALUE</th>\n",
       "      <th>TOTAL_ORDERS</th>\n",
       "    </tr>\n",
       "  </thead>\n",
       "  <tbody>\n",
       "    <tr>\n",
       "      <th>0</th>\n",
       "      <td>1</td>\n",
       "      <td>571.27</td>\n",
       "      <td>61</td>\n",
       "    </tr>\n",
       "    <tr>\n",
       "      <th>1</th>\n",
       "      <td>2</td>\n",
       "      <td>550.63</td>\n",
       "      <td>59</td>\n",
       "    </tr>\n",
       "    <tr>\n",
       "      <th>2</th>\n",
       "      <td>3</td>\n",
       "      <td>456.21</td>\n",
       "      <td>53</td>\n",
       "    </tr>\n",
       "    <tr>\n",
       "      <th>3</th>\n",
       "      <td>4</td>\n",
       "      <td>220.89</td>\n",
       "      <td>84</td>\n",
       "    </tr>\n",
       "    <tr>\n",
       "      <th>4</th>\n",
       "      <td>5</td>\n",
       "      <td>649.42</td>\n",
       "      <td>26</td>\n",
       "    </tr>\n",
       "  </tbody>\n",
       "</table>\n",
       "</div>"
      ],
      "text/plain": [
       "   CustomerID  AVERAGE_ORDER_VALUE  TOTAL_ORDERS\n",
       "0           1               571.27            61\n",
       "1           2               550.63            59\n",
       "2           3               456.21            53\n",
       "3           4               220.89            84\n",
       "4           5               649.42            26"
      ]
     },
     "execution_count": 7,
     "metadata": {},
     "output_type": "execute_result"
    }
   ],
   "source": [
    "#Merging Frequency and Monetary DFs(groupDf)\n",
    "groupDf = pd.merge(groupDf,frequency, on='CustomerID', how='inner')\n",
    "groupDf.head()"
   ]
  },
  {
   "cell_type": "code",
   "execution_count": 8,
   "id": "5f116143",
   "metadata": {},
   "outputs": [
    {
     "data": {
      "text/html": [
       "<div>\n",
       "<style scoped>\n",
       "    .dataframe tbody tr th:only-of-type {\n",
       "        vertical-align: middle;\n",
       "    }\n",
       "\n",
       "    .dataframe tbody tr th {\n",
       "        vertical-align: top;\n",
       "    }\n",
       "\n",
       "    .dataframe thead th {\n",
       "        text-align: right;\n",
       "    }\n",
       "</style>\n",
       "<table border=\"1\" class=\"dataframe\">\n",
       "  <thead>\n",
       "    <tr style=\"text-align: right;\">\n",
       "      <th></th>\n",
       "      <th>CustomerID</th>\n",
       "      <th>amount</th>\n",
       "      <th>frequency</th>\n",
       "    </tr>\n",
       "  </thead>\n",
       "  <tbody>\n",
       "    <tr>\n",
       "      <th>0</th>\n",
       "      <td>1</td>\n",
       "      <td>571.27</td>\n",
       "      <td>61</td>\n",
       "    </tr>\n",
       "    <tr>\n",
       "      <th>1</th>\n",
       "      <td>2</td>\n",
       "      <td>550.63</td>\n",
       "      <td>59</td>\n",
       "    </tr>\n",
       "    <tr>\n",
       "      <th>2</th>\n",
       "      <td>3</td>\n",
       "      <td>456.21</td>\n",
       "      <td>53</td>\n",
       "    </tr>\n",
       "    <tr>\n",
       "      <th>3</th>\n",
       "      <td>4</td>\n",
       "      <td>220.89</td>\n",
       "      <td>84</td>\n",
       "    </tr>\n",
       "    <tr>\n",
       "      <th>4</th>\n",
       "      <td>5</td>\n",
       "      <td>649.42</td>\n",
       "      <td>26</td>\n",
       "    </tr>\n",
       "  </tbody>\n",
       "</table>\n",
       "</div>"
      ],
      "text/plain": [
       "   CustomerID  amount  frequency\n",
       "0           1  571.27         61\n",
       "1           2  550.63         59\n",
       "2           3  456.21         53\n",
       "3           4  220.89         84\n",
       "4           5  649.42         26"
      ]
     },
     "execution_count": 8,
     "metadata": {},
     "output_type": "execute_result"
    }
   ],
   "source": [
    "groupDf.columns = ['CustomerID','amount','frequency']\n",
    "groupDf.head()"
   ]
  },
  {
   "cell_type": "code",
   "execution_count": 9,
   "id": "f96d546c",
   "metadata": {},
   "outputs": [
    {
     "data": {
      "text/html": [
       "<div>\n",
       "<style scoped>\n",
       "    .dataframe tbody tr th:only-of-type {\n",
       "        vertical-align: middle;\n",
       "    }\n",
       "\n",
       "    .dataframe tbody tr th {\n",
       "        vertical-align: top;\n",
       "    }\n",
       "\n",
       "    .dataframe thead th {\n",
       "        text-align: right;\n",
       "    }\n",
       "</style>\n",
       "<table border=\"1\" class=\"dataframe\">\n",
       "  <thead>\n",
       "    <tr style=\"text-align: right;\">\n",
       "      <th></th>\n",
       "      <th>CustomerID</th>\n",
       "      <th>DAYSSINCELASTORDER</th>\n",
       "    </tr>\n",
       "  </thead>\n",
       "  <tbody>\n",
       "    <tr>\n",
       "      <th>0</th>\n",
       "      <td>1</td>\n",
       "      <td>53</td>\n",
       "    </tr>\n",
       "    <tr>\n",
       "      <th>1</th>\n",
       "      <td>2</td>\n",
       "      <td>94</td>\n",
       "    </tr>\n",
       "    <tr>\n",
       "      <th>2</th>\n",
       "      <td>3</td>\n",
       "      <td>53</td>\n",
       "    </tr>\n",
       "    <tr>\n",
       "      <th>3</th>\n",
       "      <td>4</td>\n",
       "      <td>5</td>\n",
       "    </tr>\n",
       "    <tr>\n",
       "      <th>4</th>\n",
       "      <td>5</td>\n",
       "      <td>130</td>\n",
       "    </tr>\n",
       "  </tbody>\n",
       "</table>\n",
       "</div>"
      ],
      "text/plain": [
       "   CustomerID  DAYSSINCELASTORDER\n",
       "0           1                  53\n",
       "1           2                  94\n",
       "2           3                  53\n",
       "3           4                   5\n",
       "4           5                 130"
      ]
     },
     "execution_count": 9,
     "metadata": {},
     "output_type": "execute_result"
    }
   ],
   "source": [
    "#RECENCY\n",
    "recency = sales[['CustomerID','DAYSSINCELASTORDER']]\n",
    "recency = recency.reset_index()\n",
    "recency.drop(['index'],axis=1,inplace=True)\n",
    "recency.head()"
   ]
  },
  {
   "cell_type": "code",
   "execution_count": 10,
   "id": "790a08a4",
   "metadata": {},
   "outputs": [
    {
     "data": {
      "text/html": [
       "<div>\n",
       "<style scoped>\n",
       "    .dataframe tbody tr th:only-of-type {\n",
       "        vertical-align: middle;\n",
       "    }\n",
       "\n",
       "    .dataframe tbody tr th {\n",
       "        vertical-align: top;\n",
       "    }\n",
       "\n",
       "    .dataframe thead th {\n",
       "        text-align: right;\n",
       "    }\n",
       "</style>\n",
       "<table border=\"1\" class=\"dataframe\">\n",
       "  <thead>\n",
       "    <tr style=\"text-align: right;\">\n",
       "      <th></th>\n",
       "      <th>CustomerID</th>\n",
       "      <th>amount</th>\n",
       "      <th>frequency</th>\n",
       "      <th>DAYSSINCELASTORDER</th>\n",
       "    </tr>\n",
       "  </thead>\n",
       "  <tbody>\n",
       "    <tr>\n",
       "      <th>0</th>\n",
       "      <td>1</td>\n",
       "      <td>571.27</td>\n",
       "      <td>61</td>\n",
       "      <td>53</td>\n",
       "    </tr>\n",
       "    <tr>\n",
       "      <th>1</th>\n",
       "      <td>2</td>\n",
       "      <td>550.63</td>\n",
       "      <td>59</td>\n",
       "      <td>94</td>\n",
       "    </tr>\n",
       "    <tr>\n",
       "      <th>2</th>\n",
       "      <td>3</td>\n",
       "      <td>456.21</td>\n",
       "      <td>53</td>\n",
       "      <td>53</td>\n",
       "    </tr>\n",
       "    <tr>\n",
       "      <th>3</th>\n",
       "      <td>4</td>\n",
       "      <td>220.89</td>\n",
       "      <td>84</td>\n",
       "      <td>5</td>\n",
       "    </tr>\n",
       "    <tr>\n",
       "      <th>4</th>\n",
       "      <td>5</td>\n",
       "      <td>649.42</td>\n",
       "      <td>26</td>\n",
       "      <td>130</td>\n",
       "    </tr>\n",
       "  </tbody>\n",
       "</table>\n",
       "</div>"
      ],
      "text/plain": [
       "   CustomerID  amount  frequency  DAYSSINCELASTORDER\n",
       "0           1  571.27         61                  53\n",
       "1           2  550.63         59                  94\n",
       "2           3  456.21         53                  53\n",
       "3           4  220.89         84                   5\n",
       "4           5  649.42         26                 130"
      ]
     },
     "execution_count": 10,
     "metadata": {},
     "output_type": "execute_result"
    }
   ],
   "source": [
    "#Merging groupDf and RECENCY dfs to get a consolidated one\n",
    "groupDf = pd.merge(groupDf, recency, on='CustomerID', how='inner')\n",
    "groupDf.head()"
   ]
  },
  {
   "cell_type": "code",
   "execution_count": 11,
   "id": "661a71a4",
   "metadata": {},
   "outputs": [
    {
     "data": {
      "text/html": [
       "<div>\n",
       "<style scoped>\n",
       "    .dataframe tbody tr th:only-of-type {\n",
       "        vertical-align: middle;\n",
       "    }\n",
       "\n",
       "    .dataframe tbody tr th {\n",
       "        vertical-align: top;\n",
       "    }\n",
       "\n",
       "    .dataframe thead th {\n",
       "        text-align: right;\n",
       "    }\n",
       "</style>\n",
       "<table border=\"1\" class=\"dataframe\">\n",
       "  <thead>\n",
       "    <tr style=\"text-align: right;\">\n",
       "      <th></th>\n",
       "      <th>CustomerID</th>\n",
       "      <th>amount</th>\n",
       "      <th>frequency</th>\n",
       "      <th>recency</th>\n",
       "    </tr>\n",
       "  </thead>\n",
       "  <tbody>\n",
       "    <tr>\n",
       "      <th>0</th>\n",
       "      <td>1</td>\n",
       "      <td>571.27</td>\n",
       "      <td>61</td>\n",
       "      <td>53</td>\n",
       "    </tr>\n",
       "    <tr>\n",
       "      <th>1</th>\n",
       "      <td>2</td>\n",
       "      <td>550.63</td>\n",
       "      <td>59</td>\n",
       "      <td>94</td>\n",
       "    </tr>\n",
       "    <tr>\n",
       "      <th>2</th>\n",
       "      <td>3</td>\n",
       "      <td>456.21</td>\n",
       "      <td>53</td>\n",
       "      <td>53</td>\n",
       "    </tr>\n",
       "    <tr>\n",
       "      <th>3</th>\n",
       "      <td>4</td>\n",
       "      <td>220.89</td>\n",
       "      <td>84</td>\n",
       "      <td>5</td>\n",
       "    </tr>\n",
       "    <tr>\n",
       "      <th>4</th>\n",
       "      <td>5</td>\n",
       "      <td>649.42</td>\n",
       "      <td>26</td>\n",
       "      <td>130</td>\n",
       "    </tr>\n",
       "  </tbody>\n",
       "</table>\n",
       "</div>"
      ],
      "text/plain": [
       "   CustomerID  amount  frequency  recency\n",
       "0           1  571.27         61       53\n",
       "1           2  550.63         59       94\n",
       "2           3  456.21         53       53\n",
       "3           4  220.89         84        5\n",
       "4           5  649.42         26      130"
      ]
     },
     "execution_count": 11,
     "metadata": {},
     "output_type": "execute_result"
    }
   ],
   "source": [
    "groupDf.columns = ['CustomerID','amount','frequency','recency']\n",
    "groupDf.head()"
   ]
  },
  {
   "cell_type": "code",
   "execution_count": 12,
   "id": "929332a3",
   "metadata": {},
   "outputs": [
    {
     "data": {
      "image/png": "[encoded data removed]",
      "text/plain": [
       "<Figure size 432x288 with 1 Axes>"
      ]
     },
     "metadata": {
      "needs_background": "light"
     },
     "output_type": "display_data"
    }
   ],
   "source": [
    "#checking the data for further clustering prcessing and analysis\n",
    "plt.boxplot(groupDf['recency'])\n",
    "plt.show()"
   ]
  },
  {
   "cell_type": "code",
   "execution_count": 13,
   "id": "9421cf8b",
   "metadata": {},
   "outputs": [
    {
     "data": {
      "image/png": "[encoded data removed]",
      "text/plain": [
       "<Figure size 432x288 with 1 Axes>"
      ]
     },
     "metadata": {
      "needs_background": "light"
     },
     "output_type": "display_data"
    }
   ],
   "source": [
    "plt.boxplot(groupDf['frequency'])\n",
    "plt.show()"
   ]
  },
  {
   "cell_type": "code",
   "execution_count": 14,
   "id": "61983c70",
   "metadata": {},
   "outputs": [
    {
     "data": {
      "image/png": "[encoded data removed]",
      "text/plain": [
       "<Figure size 432x288 with 1 Axes>"
      ]
     },
     "metadata": {
      "needs_background": "light"
     },
     "output_type": "display_data"
    }
   ],
   "source": [
    "plt.boxplot(groupDf['amount'])\n",
    "plt.show()"
   ]
  },
  {
   "cell_type": "markdown",
   "id": "fa1a34d2",
   "metadata": {},
   "source": [
    "Since there are a lot of outliers in the data, in frequency and amount. Thus proceeding with outlier's treatment."
   ]
  },
  {
   "cell_type": "markdown",
   "id": "6aeb9651",
   "metadata": {},
   "source": [
    "#### Outlier's Treatment"
   ]
  },
  {
   "cell_type": "code",
   "execution_count": 15,
   "id": "8e24918f",
   "metadata": {},
   "outputs": [
    {
     "data": {
      "text/html": [
       "<div>\n",
       "<style scoped>\n",
       "    .dataframe tbody tr th:only-of-type {\n",
       "        vertical-align: middle;\n",
       "    }\n",
       "\n",
       "    .dataframe tbody tr th {\n",
       "        vertical-align: top;\n",
       "    }\n",
       "\n",
       "    .dataframe thead th {\n",
       "        text-align: right;\n",
       "    }\n",
       "</style>\n",
       "<table border=\"1\" class=\"dataframe\">\n",
       "  <thead>\n",
       "    <tr style=\"text-align: right;\">\n",
       "      <th></th>\n",
       "      <th>CustomerID</th>\n",
       "      <th>amount</th>\n",
       "      <th>frequency</th>\n",
       "      <th>recency</th>\n",
       "    </tr>\n",
       "  </thead>\n",
       "  <tbody>\n",
       "    <tr>\n",
       "      <th>0</th>\n",
       "      <td>1</td>\n",
       "      <td>571.27</td>\n",
       "      <td>61</td>\n",
       "      <td>53</td>\n",
       "    </tr>\n",
       "    <tr>\n",
       "      <th>1</th>\n",
       "      <td>2</td>\n",
       "      <td>550.63</td>\n",
       "      <td>59</td>\n",
       "      <td>94</td>\n",
       "    </tr>\n",
       "    <tr>\n",
       "      <th>2</th>\n",
       "      <td>3</td>\n",
       "      <td>456.21</td>\n",
       "      <td>53</td>\n",
       "      <td>53</td>\n",
       "    </tr>\n",
       "    <tr>\n",
       "      <th>3</th>\n",
       "      <td>4</td>\n",
       "      <td>220.89</td>\n",
       "      <td>84</td>\n",
       "      <td>5</td>\n",
       "    </tr>\n",
       "    <tr>\n",
       "      <th>4</th>\n",
       "      <td>5</td>\n",
       "      <td>649.42</td>\n",
       "      <td>26</td>\n",
       "      <td>130</td>\n",
       "    </tr>\n",
       "  </tbody>\n",
       "</table>\n",
       "</div>"
      ],
      "text/plain": [
       "   CustomerID  amount  frequency  recency\n",
       "0           1  571.27         61       53\n",
       "1           2  550.63         59       94\n",
       "2           3  456.21         53       53\n",
       "3           4  220.89         84        5\n",
       "4           5  649.42         26      130"
      ]
     },
     "execution_count": 15,
     "metadata": {},
     "output_type": "execute_result"
    }
   ],
   "source": [
    "# for amount\n",
    "q1 = groupDf.amount.quantile(0.05)\n",
    "q3 = groupDf.amount.quantile(0.95)\n",
    "iqr = q3-q1\n",
    "groupDf = groupDf[(groupDf.amount >= q1 - 1.5*iqr)&(groupDf.amount <= q3+1.5*iqr)]\n",
    "\n",
    "# for frequency\n",
    "q1 = groupDf.frequency.quantile(0.05)\n",
    "q3 = groupDf.frequency.quantile(0.95)\n",
    "iqr = q3-q1\n",
    "groupDf = groupDf[(groupDf.frequency >= q1 - 1.5*iqr)&(groupDf.frequency <= q3+1.5*iqr)]\n",
    "\n",
    "# for recency\n",
    "q1 = groupDf.recency.quantile(0.05)\n",
    "q3 = groupDf.recency.quantile(0.95)\n",
    "iqr = q3-q1\n",
    "groupDf = groupDf[(groupDf.recency >= q1 - 1.5*iqr)&(groupDf.recency <= q3+1.5*iqr)]\n",
    "groupDf.head()"
   ]
  },
  {
   "cell_type": "code",
   "execution_count": 16,
   "id": "d70d44f5",
   "metadata": {},
   "outputs": [
    {
     "data": {
      "text/plain": [
       "(4973, 3)"
      ]
     },
     "execution_count": 16,
     "metadata": {},
     "output_type": "execute_result"
    }
   ],
   "source": [
    "# Rescaling the data\n",
    "rfmDf = groupDf[['amount','frequency','recency']]\n",
    "\n",
    "# instantiating\n",
    "scaler = StandardScaler()\n",
    "\n",
    "# Using Fit-Transform\n",
    "\n",
    "rfmDfScaled = scaler.fit_transform(rfmDf)\n",
    "rfmDfScaled.shape"
   ]
  },
  {
   "cell_type": "code",
   "execution_count": 17,
   "id": "cbf6011a",
   "metadata": {},
   "outputs": [
    {
     "data": {
      "text/html": [
       "<div>\n",
       "<style scoped>\n",
       "    .dataframe tbody tr th:only-of-type {\n",
       "        vertical-align: middle;\n",
       "    }\n",
       "\n",
       "    .dataframe tbody tr th {\n",
       "        vertical-align: top;\n",
       "    }\n",
       "\n",
       "    .dataframe thead th {\n",
       "        text-align: right;\n",
       "    }\n",
       "</style>\n",
       "<table border=\"1\" class=\"dataframe\">\n",
       "  <thead>\n",
       "    <tr style=\"text-align: right;\">\n",
       "      <th></th>\n",
       "      <th>amount</th>\n",
       "      <th>frequency</th>\n",
       "      <th>recency</th>\n",
       "    </tr>\n",
       "  </thead>\n",
       "  <tbody>\n",
       "    <tr>\n",
       "      <th>0</th>\n",
       "      <td>5.507327</td>\n",
       "      <td>4.025029</td>\n",
       "      <td>-0.430091</td>\n",
       "    </tr>\n",
       "    <tr>\n",
       "      <th>1</th>\n",
       "      <td>5.247431</td>\n",
       "      <td>3.858249</td>\n",
       "      <td>0.080965</td>\n",
       "    </tr>\n",
       "    <tr>\n",
       "      <th>2</th>\n",
       "      <td>4.058503</td>\n",
       "      <td>3.357910</td>\n",
       "      <td>-0.430091</td>\n",
       "    </tr>\n",
       "    <tr>\n",
       "      <th>3</th>\n",
       "      <td>1.095377</td>\n",
       "      <td>5.942994</td>\n",
       "      <td>-1.028399</td>\n",
       "    </tr>\n",
       "    <tr>\n",
       "      <th>4</th>\n",
       "      <td>6.491385</td>\n",
       "      <td>1.106386</td>\n",
       "      <td>0.529696</td>\n",
       "    </tr>\n",
       "  </tbody>\n",
       "</table>\n",
       "</div>"
      ],
      "text/plain": [
       "     amount  frequency   recency\n",
       "0  5.507327   4.025029 -0.430091\n",
       "1  5.247431   3.858249  0.080965\n",
       "2  4.058503   3.357910 -0.430091\n",
       "3  1.095377   5.942994 -1.028399\n",
       "4  6.491385   1.106386  0.529696"
      ]
     },
     "execution_count": 17,
     "metadata": {},
     "output_type": "execute_result"
    }
   ],
   "source": [
    "rfmDfScaled = pd.DataFrame(rfmDfScaled)\n",
    "rfmDfScaled.columns = ['amount','frequency','recency']\n",
    "rfmDfScaled.head()"
   ]
  },
  {
   "cell_type": "markdown",
   "id": "16c62a11",
   "metadata": {},
   "source": [
    "### Modelling\n",
    "#### Using K-Means Algorithm"
   ]
  },
  {
   "cell_type": "code",
   "execution_count": 18,
   "id": "0e1f1ec7",
   "metadata": {},
   "outputs": [
    {
     "data": {
      "text/plain": [
       "KMeans(max_iter=50, n_clusters=4)"
      ]
     },
     "execution_count": 18,
     "metadata": {},
     "output_type": "execute_result"
    }
   ],
   "source": [
    "# Using an arbitrary number (n_cluster = 4)\n",
    "kmeans = KMeans(n_clusters=4, max_iter=50)\n",
    "kmeans.fit(rfmDfScaled)\n"
   ]
  },
  {
   "cell_type": "code",
   "execution_count": 19,
   "id": "9ddbb0fb",
   "metadata": {},
   "outputs": [
    {
     "data": {
      "text/plain": [
       "array([3, 3, 3, ..., 1, 1, 0])"
      ]
     },
     "execution_count": 19,
     "metadata": {},
     "output_type": "execute_result"
    }
   ],
   "source": [
    "kmeans.labels_"
   ]
  },
  {
   "cell_type": "code",
   "execution_count": 20,
   "id": "c9a4de0f",
   "metadata": {},
   "outputs": [
    {
     "data": {
      "text/plain": [
       "[<matplotlib.lines.Line2D at 0x255bc4223a0>]"
      ]
     },
     "execution_count": 20,
     "metadata": {},
     "output_type": "execute_result"
    },
    {
     "data": {
      "image/png": "[encoded data removed]",
      "text/plain": [
       "<Figure size 432x288 with 1 Axes>"
      ]
     },
     "metadata": {
      "needs_background": "light"
     },
     "output_type": "display_data"
    }
   ],
   "source": [
    "# sum of squared distance (ssd)\n",
    "ssd=[]\n",
    "range_n_clusters= [2,3,4,5,6,7,8,9]\n",
    "for num_clusters in range_n_clusters:\n",
    "    kmeans = KMeans(n_clusters = num_clusters, max_iter=50)\n",
    "    kmeans.fit(rfmDfScaled)\n",
    "    \n",
    "    ssd.append(kmeans.inertia_)\n",
    "    \n",
    "plt.plot(ssd)"
   ]
  },
  {
   "cell_type": "markdown",
   "id": "c0a6feba",
   "metadata": {},
   "source": [
    "### Hopkins Test\n",
    "Going for Hopkins Test to chack if the data is clusterable"
   ]
  },
  {
   "cell_type": "code",
   "execution_count": 21,
   "id": "aaf1b371",
   "metadata": {},
   "outputs": [],
   "source": [
    "from sklearn.neighbors import NearestNeighbors\n",
    "from random import sample\n",
    "from numpy.random import uniform\n",
    "import numpy as np\n",
    "from math import isnan\n",
    " \n",
    "def hopkins(X):\n",
    "    d = X.shape[1]\n",
    "    #d = len(vars) # columns\n",
    "    n = len(X) # rows\n",
    "    m = int(0.1 * n) \n",
    "    nbrs = NearestNeighbors(n_neighbors=1).fit(X.values)\n",
    " \n",
    "    rand_X = sample(range(0, n, 1), m)\n",
    " \n",
    "    ujd = []\n",
    "    wjd = []\n",
    "    for j in range(0, m):\n",
    "        u_dist, _ = nbrs.kneighbors(uniform(np.amin(X,axis=0),np.amax(X,axis=0),d).reshape(1, -1), 2, return_distance=True)\n",
    "        ujd.append(u_dist[0][1])\n",
    "        w_dist, _ = nbrs.kneighbors(X.iloc[rand_X[j]].values.reshape(1, -1), 2, return_distance=True)\n",
    "        wjd.append(w_dist[0][1])\n",
    " \n",
    "    H = sum(ujd) / (sum(ujd) + sum(wjd))\n",
    "    if isnan(H):\n",
    "        print(ujd, wjd)\n",
    "        H = 0\n",
    " \n",
    "    return H"
   ]
  },
  {
   "cell_type": "code",
   "execution_count": 22,
   "id": "c8eb4478",
   "metadata": {},
   "outputs": [
    {
     "data": {
      "text/plain": [
       "0.9209553084102718"
      ]
     },
     "execution_count": 22,
     "metadata": {},
     "output_type": "execute_result"
    }
   ],
   "source": [
    "hopkins(rfmDfScaled)"
   ]
  },
  {
   "cell_type": "markdown",
   "id": "479691ea",
   "metadata": {},
   "source": [
    "Since the number is close to one thus the data is clusterable. Now proceeding with Silhouette's Analysis."
   ]
  },
  {
   "cell_type": "markdown",
   "id": "20ecf1b3",
   "metadata": {},
   "source": [
    "### Silhouette's Analysis\n",
    "\n",
    "From th elbow curve we found that the X-point (2) ,i.e, 4 clusters are optimal for the data. Thus using 4 as the optimal number."
   ]
  },
  {
   "cell_type": "code",
   "execution_count": 23,
   "id": "12b528b5",
   "metadata": {},
   "outputs": [
    {
     "data": {
      "text/plain": [
       "KMeans(max_iter=50, n_clusters=4)"
      ]
     },
     "execution_count": 23,
     "metadata": {},
     "output_type": "execute_result"
    }
   ],
   "source": [
    "kmeans = KMeans(n_clusters = 4,max_iter=50)\n",
    "kmeans.fit(rfmDfScaled)"
   ]
  },
  {
   "cell_type": "code",
   "execution_count": 24,
   "id": "5dacace8",
   "metadata": {},
   "outputs": [
    {
     "data": {
      "text/plain": [
       "array([2, 2, 2, ..., 3, 3, 1])"
      ]
     },
     "execution_count": 24,
     "metadata": {},
     "output_type": "execute_result"
    }
   ],
   "source": [
    "kmeans.labels_"
   ]
  },
  {
   "cell_type": "code",
   "execution_count": 25,
   "id": "9fe1556d",
   "metadata": {
    "scrolled": false
   },
   "outputs": [
    {
     "data": {
      "text/html": [
       "<div>\n",
       "<style scoped>\n",
       "    .dataframe tbody tr th:only-of-type {\n",
       "        vertical-align: middle;\n",
       "    }\n",
       "\n",
       "    .dataframe tbody tr th {\n",
       "        vertical-align: top;\n",
       "    }\n",
       "\n",
       "    .dataframe thead th {\n",
       "        text-align: right;\n",
       "    }\n",
       "</style>\n",
       "<table border=\"1\" class=\"dataframe\">\n",
       "  <thead>\n",
       "    <tr style=\"text-align: right;\">\n",
       "      <th></th>\n",
       "      <th>CustomerID</th>\n",
       "      <th>amount</th>\n",
       "      <th>frequency</th>\n",
       "      <th>recency</th>\n",
       "      <th>clusterID</th>\n",
       "    </tr>\n",
       "  </thead>\n",
       "  <tbody>\n",
       "    <tr>\n",
       "      <th>0</th>\n",
       "      <td>1</td>\n",
       "      <td>571.27</td>\n",
       "      <td>61</td>\n",
       "      <td>53</td>\n",
       "      <td>2</td>\n",
       "    </tr>\n",
       "    <tr>\n",
       "      <th>1</th>\n",
       "      <td>2</td>\n",
       "      <td>550.63</td>\n",
       "      <td>59</td>\n",
       "      <td>94</td>\n",
       "      <td>2</td>\n",
       "    </tr>\n",
       "    <tr>\n",
       "      <th>2</th>\n",
       "      <td>3</td>\n",
       "      <td>456.21</td>\n",
       "      <td>53</td>\n",
       "      <td>53</td>\n",
       "      <td>2</td>\n",
       "    </tr>\n",
       "    <tr>\n",
       "      <th>3</th>\n",
       "      <td>4</td>\n",
       "      <td>220.89</td>\n",
       "      <td>84</td>\n",
       "      <td>5</td>\n",
       "      <td>0</td>\n",
       "    </tr>\n",
       "    <tr>\n",
       "      <th>4</th>\n",
       "      <td>5</td>\n",
       "      <td>649.42</td>\n",
       "      <td>26</td>\n",
       "      <td>130</td>\n",
       "      <td>2</td>\n",
       "    </tr>\n",
       "  </tbody>\n",
       "</table>\n",
       "</div>"
      ],
      "text/plain": [
       "   CustomerID  amount  frequency  recency  clusterID\n",
       "0           1  571.27         61       53          2\n",
       "1           2  550.63         59       94          2\n",
       "2           3  456.21         53       53          2\n",
       "3           4  220.89         84        5          0\n",
       "4           5  649.42         26      130          2"
      ]
     },
     "execution_count": 25,
     "metadata": {},
     "output_type": "execute_result"
    }
   ],
   "source": [
    "# Assigning the cluster label to the groupDf\n",
    "groupDf['clusterID'] = kmeans.labels_\n",
    "groupDf.head()"
   ]
  },
  {
   "cell_type": "code",
   "execution_count": 26,
   "id": "6d9e1c7c",
   "metadata": {},
   "outputs": [
    {
     "data": {
      "image/png": "[encoded data removed]",
      "text/plain": [
       "<Figure size 432x288 with 1 Axes>"
      ]
     },
     "metadata": {
      "needs_background": "light"
     },
     "output_type": "display_data"
    }
   ],
   "source": [
    "#plotting\n",
    "sns.boxplot(x='clusterID',y='amount',data=groupDf)\n",
    "plt.show()"
   ]
  },
  {
   "cell_type": "code",
   "execution_count": 27,
   "id": "e362c903",
   "metadata": {},
   "outputs": [
    {
     "data": {
      "image/png": "[encoded data removed]",
      "text/plain": [
       "<Figure size 432x288 with 1 Axes>"
      ]
     },
     "metadata": {
      "needs_background": "light"
     },
     "output_type": "display_data"
    }
   ],
   "source": [
    "sns.boxplot(x='clusterID',y='frequency',data=groupDf)\n",
    "plt.show()"
   ]
  },
  {
   "cell_type": "code",
   "execution_count": 28,
   "id": "e05665fd",
   "metadata": {},
   "outputs": [
    {
     "data": {
      "image/png": "[encoded data removed]",
      "text/plain": [
       "<Figure size 432x288 with 1 Axes>"
      ]
     },
     "metadata": {
      "needs_background": "light"
     },
     "output_type": "display_data"
    }
   ],
   "source": [
    "sns.boxplot(x='clusterID',y='recency',data=groupDf)\n",
    "plt.show()"
   ]
  },
  {
   "cell_type": "code",
   "execution_count": 29,
   "id": "fb06efbc",
   "metadata": {},
   "outputs": [
    {
     "data": {
      "text/html": [
       "<div>\n",
       "<style scoped>\n",
       "    .dataframe tbody tr th:only-of-type {\n",
       "        vertical-align: middle;\n",
       "    }\n",
       "\n",
       "    .dataframe tbody tr th {\n",
       "        vertical-align: top;\n",
       "    }\n",
       "\n",
       "    .dataframe thead th {\n",
       "        text-align: right;\n",
       "    }\n",
       "</style>\n",
       "<table border=\"1\" class=\"dataframe\">\n",
       "  <thead>\n",
       "    <tr style=\"text-align: right;\">\n",
       "      <th></th>\n",
       "      <th>amount</th>\n",
       "      <th>frequency</th>\n",
       "      <th>recency</th>\n",
       "    </tr>\n",
       "  </thead>\n",
       "  <tbody>\n",
       "    <tr>\n",
       "      <th>0</th>\n",
       "      <td>5.507327</td>\n",
       "      <td>4.025029</td>\n",
       "      <td>-0.430091</td>\n",
       "    </tr>\n",
       "    <tr>\n",
       "      <th>1</th>\n",
       "      <td>5.247431</td>\n",
       "      <td>3.858249</td>\n",
       "      <td>0.080965</td>\n",
       "    </tr>\n",
       "    <tr>\n",
       "      <th>2</th>\n",
       "      <td>4.058503</td>\n",
       "      <td>3.357910</td>\n",
       "      <td>-0.430091</td>\n",
       "    </tr>\n",
       "    <tr>\n",
       "      <th>3</th>\n",
       "      <td>1.095377</td>\n",
       "      <td>5.942994</td>\n",
       "      <td>-1.028399</td>\n",
       "    </tr>\n",
       "    <tr>\n",
       "      <th>4</th>\n",
       "      <td>6.491385</td>\n",
       "      <td>1.106386</td>\n",
       "      <td>0.529696</td>\n",
       "    </tr>\n",
       "  </tbody>\n",
       "</table>\n",
       "</div>"
      ],
      "text/plain": [
       "     amount  frequency   recency\n",
       "0  5.507327   4.025029 -0.430091\n",
       "1  5.247431   3.858249  0.080965\n",
       "2  4.058503   3.357910 -0.430091\n",
       "3  1.095377   5.942994 -1.028399\n",
       "4  6.491385   1.106386  0.529696"
      ]
     },
     "execution_count": 29,
     "metadata": {},
     "output_type": "execute_result"
    }
   ],
   "source": [
    "rfmDfScaled.head()"
   ]
  },
  {
   "cell_type": "markdown",
   "id": "ff05d750",
   "metadata": {},
   "source": [
    "### Hierarchical Clustering"
   ]
  },
  {
   "cell_type": "code",
   "execution_count": 30,
   "id": "b4f7bc5e",
   "metadata": {},
   "outputs": [
    {
     "data": {
      "text/html": [
       "<div>\n",
       "<style scoped>\n",
       "    .dataframe tbody tr th:only-of-type {\n",
       "        vertical-align: middle;\n",
       "    }\n",
       "\n",
       "    .dataframe tbody tr th {\n",
       "        vertical-align: top;\n",
       "    }\n",
       "\n",
       "    .dataframe thead th {\n",
       "        text-align: right;\n",
       "    }\n",
       "</style>\n",
       "<table border=\"1\" class=\"dataframe\">\n",
       "  <thead>\n",
       "    <tr style=\"text-align: right;\">\n",
       "      <th></th>\n",
       "      <th>amount</th>\n",
       "      <th>frequency</th>\n",
       "      <th>recency</th>\n",
       "    </tr>\n",
       "  </thead>\n",
       "  <tbody>\n",
       "    <tr>\n",
       "      <th>0</th>\n",
       "      <td>5.507327</td>\n",
       "      <td>4.025029</td>\n",
       "      <td>-0.430091</td>\n",
       "    </tr>\n",
       "    <tr>\n",
       "      <th>1</th>\n",
       "      <td>5.247431</td>\n",
       "      <td>3.858249</td>\n",
       "      <td>0.080965</td>\n",
       "    </tr>\n",
       "    <tr>\n",
       "      <th>2</th>\n",
       "      <td>4.058503</td>\n",
       "      <td>3.357910</td>\n",
       "      <td>-0.430091</td>\n",
       "    </tr>\n",
       "    <tr>\n",
       "      <th>3</th>\n",
       "      <td>1.095377</td>\n",
       "      <td>5.942994</td>\n",
       "      <td>-1.028399</td>\n",
       "    </tr>\n",
       "    <tr>\n",
       "      <th>4</th>\n",
       "      <td>6.491385</td>\n",
       "      <td>1.106386</td>\n",
       "      <td>0.529696</td>\n",
       "    </tr>\n",
       "  </tbody>\n",
       "</table>\n",
       "</div>"
      ],
      "text/plain": [
       "     amount  frequency   recency\n",
       "0  5.507327   4.025029 -0.430091\n",
       "1  5.247431   3.858249  0.080965\n",
       "2  4.058503   3.357910 -0.430091\n",
       "3  1.095377   5.942994 -1.028399\n",
       "4  6.491385   1.106386  0.529696"
      ]
     },
     "execution_count": 30,
     "metadata": {},
     "output_type": "execute_result"
    }
   ],
   "source": [
    "# viewing the data\n",
    "rfmDfScaled.head()"
   ]
  },
  {
   "cell_type": "code",
   "execution_count": 31,
   "id": "f9405150",
   "metadata": {},
   "outputs": [
    {
     "data": {
      "text/html": [
       "<div>\n",
       "<style scoped>\n",
       "    .dataframe tbody tr th:only-of-type {\n",
       "        vertical-align: middle;\n",
       "    }\n",
       "\n",
       "    .dataframe tbody tr th {\n",
       "        vertical-align: top;\n",
       "    }\n",
       "\n",
       "    .dataframe thead th {\n",
       "        text-align: right;\n",
       "    }\n",
       "</style>\n",
       "<table border=\"1\" class=\"dataframe\">\n",
       "  <thead>\n",
       "    <tr style=\"text-align: right;\">\n",
       "      <th></th>\n",
       "      <th>CustomerID</th>\n",
       "      <th>amount</th>\n",
       "      <th>frequency</th>\n",
       "      <th>recency</th>\n",
       "      <th>clusterID</th>\n",
       "    </tr>\n",
       "  </thead>\n",
       "  <tbody>\n",
       "    <tr>\n",
       "      <th>0</th>\n",
       "      <td>1</td>\n",
       "      <td>571.27</td>\n",
       "      <td>61</td>\n",
       "      <td>53</td>\n",
       "      <td>2</td>\n",
       "    </tr>\n",
       "    <tr>\n",
       "      <th>1</th>\n",
       "      <td>2</td>\n",
       "      <td>550.63</td>\n",
       "      <td>59</td>\n",
       "      <td>94</td>\n",
       "      <td>2</td>\n",
       "    </tr>\n",
       "    <tr>\n",
       "      <th>2</th>\n",
       "      <td>3</td>\n",
       "      <td>456.21</td>\n",
       "      <td>53</td>\n",
       "      <td>53</td>\n",
       "      <td>2</td>\n",
       "    </tr>\n",
       "    <tr>\n",
       "      <th>3</th>\n",
       "      <td>4</td>\n",
       "      <td>220.89</td>\n",
       "      <td>84</td>\n",
       "      <td>5</td>\n",
       "      <td>0</td>\n",
       "    </tr>\n",
       "    <tr>\n",
       "      <th>4</th>\n",
       "      <td>5</td>\n",
       "      <td>649.42</td>\n",
       "      <td>26</td>\n",
       "      <td>130</td>\n",
       "      <td>2</td>\n",
       "    </tr>\n",
       "  </tbody>\n",
       "</table>\n",
       "</div>"
      ],
      "text/plain": [
       "   CustomerID  amount  frequency  recency  clusterID\n",
       "0           1  571.27         61       53          2\n",
       "1           2  550.63         59       94          2\n",
       "2           3  456.21         53       53          2\n",
       "3           4  220.89         84        5          0\n",
       "4           5  649.42         26      130          2"
      ]
     },
     "execution_count": 31,
     "metadata": {},
     "output_type": "execute_result"
    }
   ],
   "source": [
    "groupDf.head()"
   ]
  },
  {
   "cell_type": "code",
   "execution_count": 32,
   "id": "7664a537",
   "metadata": {},
   "outputs": [
    {
     "data": {
      "image/png": "[encoded data removed]",
      "text/plain": [
       "<Figure size 432x288 with 1 Axes>"
      ]
     },
     "metadata": {
      "needs_background": "light"
     },
     "output_type": "display_data"
    }
   ],
   "source": [
    "# performing the Single linkage\n",
    "mergings = linkage(rfmDfScaled , method = 'single' , metric = 'euclidean')\n",
    "dendrogram(mergings)\n",
    "plt.show()"
   ]
  },
  {
   "cell_type": "code",
   "execution_count": 33,
   "id": "012b7ce9",
   "metadata": {},
   "outputs": [
    {
     "data": {
      "image/png": "[encoded data removed]",
      "text/plain": [
       "<Figure size 432x288 with 1 Axes>"
      ]
     },
     "metadata": {
      "needs_background": "light"
     },
     "output_type": "display_data"
    }
   ],
   "source": [
    "# Complete Linkage\n",
    "mergings = linkage(rfmDfScaled, method = 'complete', metric = 'euclidean')\n",
    "dendrogram(mergings)\n",
    "plt.show()"
   ]
  },
  {
   "cell_type": "code",
   "execution_count": 34,
   "id": "e1759ba9",
   "metadata": {},
   "outputs": [
    {
     "data": {
      "text/plain": [
       "array([0, 0, 0, ..., 3, 3, 3])"
      ]
     },
     "execution_count": 34,
     "metadata": {},
     "output_type": "execute_result"
    }
   ],
   "source": [
    "# 4 clusters\n",
    "cluster_labels = cut_tree(mergings,n_clusters = 4).reshape(-1,)\n",
    "cluster_labels"
   ]
  },
  {
   "cell_type": "code",
   "execution_count": 35,
   "id": "cf8b1551",
   "metadata": {},
   "outputs": [
    {
     "data": {
      "text/html": [
       "<div>\n",
       "<style scoped>\n",
       "    .dataframe tbody tr th:only-of-type {\n",
       "        vertical-align: middle;\n",
       "    }\n",
       "\n",
       "    .dataframe tbody tr th {\n",
       "        vertical-align: top;\n",
       "    }\n",
       "\n",
       "    .dataframe thead th {\n",
       "        text-align: right;\n",
       "    }\n",
       "</style>\n",
       "<table border=\"1\" class=\"dataframe\">\n",
       "  <thead>\n",
       "    <tr style=\"text-align: right;\">\n",
       "      <th></th>\n",
       "      <th>CustomerID</th>\n",
       "      <th>amount</th>\n",
       "      <th>frequency</th>\n",
       "      <th>recency</th>\n",
       "      <th>clusterID</th>\n",
       "      <th>cluster_labels</th>\n",
       "    </tr>\n",
       "  </thead>\n",
       "  <tbody>\n",
       "    <tr>\n",
       "      <th>0</th>\n",
       "      <td>1</td>\n",
       "      <td>571.27</td>\n",
       "      <td>61</td>\n",
       "      <td>53</td>\n",
       "      <td>2</td>\n",
       "      <td>0</td>\n",
       "    </tr>\n",
       "    <tr>\n",
       "      <th>1</th>\n",
       "      <td>2</td>\n",
       "      <td>550.63</td>\n",
       "      <td>59</td>\n",
       "      <td>94</td>\n",
       "      <td>2</td>\n",
       "      <td>0</td>\n",
       "    </tr>\n",
       "    <tr>\n",
       "      <th>2</th>\n",
       "      <td>3</td>\n",
       "      <td>456.21</td>\n",
       "      <td>53</td>\n",
       "      <td>53</td>\n",
       "      <td>2</td>\n",
       "      <td>0</td>\n",
       "    </tr>\n",
       "    <tr>\n",
       "      <th>3</th>\n",
       "      <td>4</td>\n",
       "      <td>220.89</td>\n",
       "      <td>84</td>\n",
       "      <td>5</td>\n",
       "      <td>0</td>\n",
       "      <td>1</td>\n",
       "    </tr>\n",
       "    <tr>\n",
       "      <th>4</th>\n",
       "      <td>5</td>\n",
       "      <td>649.42</td>\n",
       "      <td>26</td>\n",
       "      <td>130</td>\n",
       "      <td>2</td>\n",
       "      <td>0</td>\n",
       "    </tr>\n",
       "  </tbody>\n",
       "</table>\n",
       "</div>"
      ],
      "text/plain": [
       "   CustomerID  amount  frequency  recency  clusterID  cluster_labels\n",
       "0           1  571.27         61       53          2               0\n",
       "1           2  550.63         59       94          2               0\n",
       "2           3  456.21         53       53          2               0\n",
       "3           4  220.89         84        5          0               1\n",
       "4           5  649.42         26      130          2               0"
      ]
     },
     "execution_count": 35,
     "metadata": {},
     "output_type": "execute_result"
    }
   ],
   "source": [
    "groupDf['cluster_labels'] = cluster_labels\n",
    "groupDf.head()"
   ]
  },
  {
   "cell_type": "code",
   "execution_count": 36,
   "id": "be321f2e",
   "metadata": {},
   "outputs": [
    {
     "data": {
      "image/png": "[encoded data removed]",
      "text/plain": [
       "<Figure size 432x288 with 1 Axes>"
      ]
     },
     "metadata": {
      "needs_background": "light"
     },
     "output_type": "display_data"
    }
   ],
   "source": [
    "sns.boxplot(x = 'cluster_labels', y = 'recency', data = groupDf)\n",
    "plt.show()"
   ]
  },
  {
   "cell_type": "code",
   "execution_count": 37,
   "id": "e45378bb",
   "metadata": {},
   "outputs": [
    {
     "data": {
      "image/png": "[encoded data removed]",
      "text/plain": [
       "<Figure size 432x288 with 1 Axes>"
      ]
     },
     "metadata": {
      "needs_background": "light"
     },
     "output_type": "display_data"
    }
   ],
   "source": [
    "sns.boxplot(x = 'cluster_labels', y = 'frequency', data = groupDf)\n",
    "plt.show()"
   ]
  },
  {
   "cell_type": "code",
   "execution_count": 38,
   "id": "2cf5d36b",
   "metadata": {},
   "outputs": [
    {
     "data": {
      "image/png": "[encoded data removed]",
      "text/plain": [
       "<Figure size 432x288 with 1 Axes>"
      ]
     },
     "metadata": {
      "needs_background": "light"
     },
     "output_type": "display_data"
    }
   ],
   "source": [
    "sns.boxplot(x = 'cluster_labels', y = 'amount', data = groupDf)\n",
    "plt.show()"
   ]
  },
  {
   "cell_type": "markdown",
   "id": "bb279594",
   "metadata": {},
   "source": [
    "As we can see from the above three boxplots, the Cluster 4 (cluster_label = 3) has made the most recent order and it also makes the orders more frequently as compared to others. However when we compare the average amount per order it turns out to be the least for the customers in the cluster 4. We can also consider cluster 3 (cluster_label = 2) for the most recent order after cluster 4 and cluster 3 has made the most frequent orders after cluster 4 however when we compare the average amount per order cluster 3 (cluster_labels = 2) scores a second position again. So we should be focusing on Cluster 3 (cluster_labels = 2) if we want to have a good amount of sales and profits.\n",
    "\n",
    "We could also see that cluster 1 (cluster_labels = 0) has made the purchase for highest amounts but have made the order less frequently. We could ask our marketing team to roll out more attention grabbing advertisements for those particular set of customers in order to have more revenue as they have also made orders recently which means Cluster 1 customers are loyal too."
   ]
  },
  {
   "cell_type": "markdown",
   "id": "31003d21",
   "metadata": {},
   "source": [
    " We could also proceed with the scatter plot and see which users have made the highest number of orders on each day of the week with the highest revenue. Similarly we could go with the weekwise data and a particular day's time wise data so that we could target the potential customers when there's a high likelihood for them to buy.\n",
    "\n",
    "\n",
    "For example: For checking customerwise report of orders and revenue on monday we could use a scatter plot."
   ]
  },
  {
   "cell_type": "code",
   "execution_count": 46,
   "id": "2c3ed47a",
   "metadata": {},
   "outputs": [
    {
     "data": {
      "image/png": "[encoded data removed]",
      "text/plain": [
       "<Figure size 432x288 with 1 Axes>"
      ]
     },
     "metadata": {
      "needs_background": "light"
     },
     "output_type": "display_data"
    }
   ],
   "source": [
    "plt.scatter(x=sales['MONDAY_ORDERS'],y=sales['MONDAY_REVENUE'])\n",
    "plt.title('Monday Order v/s Revenue', color= 'Red')\n",
    "plt.xlabel('Orders made')\n",
    "plt.ylabel('Revenue made')\n",
    "plt.show()"
   ]
  },
  {
   "cell_type": "code",
   "execution_count": null,
   "id": "44036c53",
   "metadata": {},
   "outputs": [],
   "source": []
  }
 ],
 "metadata": {
  "kernelspec": {
   "display_name": "Python 3 (ipykernel)",
   "language": "python",
   "name": "python3"
  },
  "language_info": {
   "codemirror_mode": {
    "name": "ipython",
    "version": 3
   },
   "file_extension": ".py",
   "mimetype": "text/x-python",
   "name": "python",
   "nbconvert_exporter": "python",
   "pygments_lexer": "ipython3",
   "version": "3.9.7"
  }
 },
 "nbformat": 4,
 "nbformat_minor": 5
}
